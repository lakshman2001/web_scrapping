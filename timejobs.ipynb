{
 "cells": [
  {
   "cell_type": "code",
   "execution_count": 1,
   "metadata": {},
   "outputs": [],
   "source": [
    "#import necessary libraries\n",
    "from bs4 import BeautifulSoup\n",
    "import requests\n",
    "import pandas as pd\n",
    "from urllib.request import urlopen\n",
    "import ssl\n",
    "import regex as re\n",
    "\n",
    "ctx = ssl.create_default_context()\n",
    "ctx.check_hostname = False\n",
    "ctx.verify_mode = ssl.CERT_NONE\n"
   ]
  },
  {
   "cell_type": "markdown",
   "metadata": {},
   "source": [
    "#### Filtered jobs related to Python\n",
    "#### Source: \n",
    "###### https://www.timesjobs.com/candidate/job-search.html?from=submit&actualTxtKeywords=python&searchBy=0&rdoOperator=OR&searchType=personalizedSearch&luceneResultSize=25&postWeek=60&txtKeywords=python&pDate=I&sequence=2&startPage=1"
   ]
  },
  {
   "cell_type": "code",
   "execution_count": 2,
   "metadata": {
    "scrolled": true
   },
   "outputs": [],
   "source": [
    "lists=[]\n",
    "#iterate for first 20 pages\n",
    "for i in range(1,20):\n",
    "    html_text=requests.get('https://www.timesjobs.com/candidate/job-search.html?from=submit&actualTxtKeywords=python&searchBy=0&rdoOperator=OR&searchType=personalizedSearch&luceneResultSize=25&postWeek=60&txtKeywords=python&pDate=I&sequence=2&startPage={}'.format(i)).text\n",
    "    \n",
    "\n",
    "    soup=BeautifulSoup(html_text,'lxml')\n",
    "    \n",
    "    jobs=soup.find_all('li',class_='clearfix job-bx wht-shd-bx')\n",
    "    \n",
    "    for job in jobs:\n",
    "        locations=job.find_all('ul',class_=\"top-jd-dtl clearfix\")\n",
    "        skills=job.find_all('ul',class_=\"list-job-dtl clearfix\")\n",
    "        companies=job.find_all('header' ,class_=\"clearfix\")\n",
    "        date=job.find_all('span',class_='sim-posted')\n",
    "        \n",
    "        for company in companies:\n",
    "            company_name=company.find('h3',class_='joblist-comp-name').text.replace(' ','').replace('\\r\\n','')\n",
    "            more_info=company.find('h2').a['href'].replace('\\r\\n','')\n",
    "            \n",
    "        for skill in skills:\n",
    "            key_skill=skill.find('span', class_=\"srp-skills\").text.replace(' ','').replace('\\r\\n','')\n",
    "            \n",
    "\n",
    "        for location in locations:\n",
    "            exp=location.find('li').text[10:]\n",
    "            loc=location.find('span').text.replace(' ','').replace('\\r\\n','')\n",
    "            \n",
    "        for s in date:\n",
    "            posted=s.find('span').text\n",
    "            #print(posted)\n",
    "        \n",
    "        lists.append([company_name,loc,exp,posted,key_skill,more_info])\n",
    "\n"
   ]
  },
  {
   "cell_type": "code",
   "execution_count": null,
   "metadata": {
    "scrolled": true
   },
   "outputs": [],
   "source": []
  },
  {
   "cell_type": "code",
   "execution_count": 3,
   "metadata": {},
   "outputs": [],
   "source": [
    "import pandas as pd\n",
    "df=pd.DataFrame(lists,columns=['company_name','location','experience','posted_date','skills','more_info'])"
   ]
  },
  {
   "cell_type": "code",
   "execution_count": 4,
   "metadata": {},
   "outputs": [
    {
     "data": {
      "text/html": [
       "<div>\n",
       "<style scoped>\n",
       "    .dataframe tbody tr th:only-of-type {\n",
       "        vertical-align: middle;\n",
       "    }\n",
       "\n",
       "    .dataframe tbody tr th {\n",
       "        vertical-align: top;\n",
       "    }\n",
       "\n",
       "    .dataframe thead th {\n",
       "        text-align: right;\n",
       "    }\n",
       "</style>\n",
       "<table border=\"1\" class=\"dataframe\">\n",
       "  <thead>\n",
       "    <tr style=\"text-align: right;\">\n",
       "      <th></th>\n",
       "      <th>company_name</th>\n",
       "      <th>location</th>\n",
       "      <th>experience</th>\n",
       "      <th>posted_date</th>\n",
       "      <th>skills</th>\n",
       "      <th>more_info</th>\n",
       "    </tr>\n",
       "  </thead>\n",
       "  <tbody>\n",
       "    <tr>\n",
       "      <th>0</th>\n",
       "      <td>TandAHRSolutions</td>\n",
       "      <td>Mohali</td>\n",
       "      <td>l3 - 5 yrs</td>\n",
       "      <td>Posted few days ago</td>\n",
       "      <td>Djangoframework,PythonDeveloper,corepython\\n</td>\n",
       "      <td>https://www.timesjobs.com/job-detail/python-de...</td>\n",
       "    </tr>\n",
       "    <tr>\n",
       "      <th>1</th>\n",
       "      <td>BoschLtd</td>\n",
       "      <td>Coimbatore,Bengaluru/Bangalore</td>\n",
       "      <td>l2 - 5 yrs</td>\n",
       "      <td>Posted 5 days ago</td>\n",
       "      <td>docker,git,oops,api,rest,python\\n</td>\n",
       "      <td>https://www.timesjobs.com/job-detail/python-de...</td>\n",
       "    </tr>\n",
       "    <tr>\n",
       "      <th>2</th>\n",
       "      <td>ValueLabs</td>\n",
       "      <td>Hyderabad/Secunderabad</td>\n",
       "      <td>l7 - 10 yrs</td>\n",
       "      <td>Posted few days ago</td>\n",
       "      <td>\\npython,database,shellscripting,perl,unix,sql</td>\n",
       "      <td>https://www.timesjobs.com/job-detail/python-de...</td>\n",
       "    </tr>\n",
       "    <tr>\n",
       "      <th>3</th>\n",
       "      <td>TECHNOPARKTRIVANDRUM</td>\n",
       "      <td>Thiruvananthapuram</td>\n",
       "      <td>l4 - 6 yrs</td>\n",
       "      <td>Posted few days ago</td>\n",
       "      <td>\\npython,devops,machinelearning</td>\n",
       "      <td>https://www.timesjobs.com/job-detail/python-aw...</td>\n",
       "    </tr>\n",
       "    <tr>\n",
       "      <th>4</th>\n",
       "      <td>SpliceGlobalServicesPvtLtd</td>\n",
       "      <td>Gurgaon</td>\n",
       "      <td>l2 - 5 yrs</td>\n",
       "      <td>Posted 6 days ago</td>\n",
       "      <td>\\npython,django,git,postgresql,oops,linux,mysql</td>\n",
       "      <td>https://www.timesjobs.com/job-detail/python-de...</td>\n",
       "    </tr>\n",
       "  </tbody>\n",
       "</table>\n",
       "</div>"
      ],
      "text/plain": [
       "                 company_name                        location   experience  \\\n",
       "0            TandAHRSolutions                          Mohali   l3 - 5 yrs   \n",
       "1                    BoschLtd  Coimbatore,Bengaluru/Bangalore   l2 - 5 yrs   \n",
       "2                   ValueLabs          Hyderabad/Secunderabad  l7 - 10 yrs   \n",
       "3        TECHNOPARKTRIVANDRUM              Thiruvananthapuram   l4 - 6 yrs   \n",
       "4  SpliceGlobalServicesPvtLtd                         Gurgaon   l2 - 5 yrs   \n",
       "\n",
       "           posted_date                                           skills  \\\n",
       "0  Posted few days ago     Djangoframework,PythonDeveloper,corepython\\n   \n",
       "1    Posted 5 days ago                docker,git,oops,api,rest,python\\n   \n",
       "2  Posted few days ago   \\npython,database,shellscripting,perl,unix,sql   \n",
       "3  Posted few days ago                  \\npython,devops,machinelearning   \n",
       "4    Posted 6 days ago  \\npython,django,git,postgresql,oops,linux,mysql   \n",
       "\n",
       "                                           more_info  \n",
       "0  https://www.timesjobs.com/job-detail/python-de...  \n",
       "1  https://www.timesjobs.com/job-detail/python-de...  \n",
       "2  https://www.timesjobs.com/job-detail/python-de...  \n",
       "3  https://www.timesjobs.com/job-detail/python-aw...  \n",
       "4  https://www.timesjobs.com/job-detail/python-de...  "
      ]
     },
     "execution_count": 4,
     "metadata": {},
     "output_type": "execute_result"
    }
   ],
   "source": [
    "df.head()"
   ]
  },
  {
   "cell_type": "code",
   "execution_count": 5,
   "metadata": {},
   "outputs": [
    {
     "data": {
      "text/plain": [
       "(475, 6)"
      ]
     },
     "execution_count": 5,
     "metadata": {},
     "output_type": "execute_result"
    }
   ],
   "source": [
    "df.shape"
   ]
  },
  {
   "cell_type": "code",
   "execution_count": 6,
   "metadata": {},
   "outputs": [
    {
     "data": {
      "text/plain": [
       "company_name    0\n",
       "location        0\n",
       "experience      0\n",
       "posted_date     0\n",
       "skills          0\n",
       "more_info       0\n",
       "dtype: int64"
      ]
     },
     "execution_count": 6,
     "metadata": {},
     "output_type": "execute_result"
    }
   ],
   "source": [
    "df.isnull().sum()"
   ]
  },
  {
   "cell_type": "code",
   "execution_count": null,
   "metadata": {},
   "outputs": [],
   "source": []
  },
  {
   "cell_type": "code",
   "execution_count": 7,
   "metadata": {},
   "outputs": [],
   "source": [
    "df.to_csv('jobs.csv')"
   ]
  },
  {
   "cell_type": "code",
   "execution_count": null,
   "metadata": {},
   "outputs": [],
   "source": []
  }
 ],
 "metadata": {
  "kernelspec": {
   "display_name": "Python 3",
   "language": "python",
   "name": "python3"
  },
  "language_info": {
   "codemirror_mode": {
    "name": "ipython",
    "version": 3
   },
   "file_extension": ".py",
   "mimetype": "text/x-python",
   "name": "python",
   "nbconvert_exporter": "python",
   "pygments_lexer": "ipython3",
   "version": "3.8.5"
  }
 },
 "nbformat": 4,
 "nbformat_minor": 4
}
