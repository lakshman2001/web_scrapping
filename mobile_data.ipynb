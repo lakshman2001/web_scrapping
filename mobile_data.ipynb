{
 "cells": [
  {
   "cell_type": "code",
   "execution_count": 1,
   "metadata": {},
   "outputs": [],
   "source": [
    "from bs4 import BeautifulSoup\n",
    "import requests\n",
    "import pandas as pd\n",
    "from urllib.request import urlopen\n",
    "import ssl\n",
    "\n",
    "ctx = ssl.create_default_context()\n",
    "ctx.check_hostname = False\n",
    "ctx.verify_mode = ssl.CERT_NONE\n"
   ]
  },
  {
   "cell_type": "markdown",
   "metadata": {},
   "source": []
  },
  {
   "cell_type": "code",
   "execution_count": 2,
   "metadata": {
    "scrolled": true
   },
   "outputs": [
    {
     "name": "stdout",
     "output_type": "stream",
     "text": [
      " iteration done 50\n",
      " iteration done 100\n",
      " iteration done 150\n",
      " iteration done 200\n",
      " iteration done 250\n",
      " iteration done 300\n"
     ]
    }
   ],
   "source": [
    "lists=[]\n",
    "description=[]\n",
    "\n",
    "for k in range(1,301):\n",
    "    html_text=requests.get('https://www.flipkart.com/search?q=mobiles&sid=tyy%2C4io&as=on&as-show=on&otracker=AS_QueryStore_OrganicAutoSuggest_1_5_na_na_na&otracker1=AS_QueryStore_OrganicAutoSuggest_1_5_na_na_na&as-pos=1&as-type=RECENT&suggestionId=mobiles%7CMobiles&requestId=a6ac8ea7-69a2-49fc-a761-09d905c75e5f&as-searchtext=mobil&page={}'.format(k)).text\n",
    "    soup=BeautifulSoup(html_text,'lxml')\n",
    "    #print(soup)\n",
    "        \n",
    "    mobiles=soup.find_all('div',class_=\"_1AtVbE col-12-12\")\n",
    "    #print(mobiles)\n",
    "    for mobile in mobiles:\n",
    "            review=mobile.find('div', class_=\"_3LWZlK\")\n",
    "            mobi=mobile.find('div', class_=\"_4rR01T\")\n",
    "            price=mobile.find('div', class_=\"_30jeq3 _1_WHN1\")\n",
    "            details=mobile.find_all('li', class_=\"rgWa7D\")\n",
    "            de=[]\n",
    "            for d in details:\n",
    "\n",
    "                \n",
    "                de.append(d.text)\n",
    "            if mobi and review is not None:\n",
    "                description.append(de)\n",
    "                #print(d)\n",
    "            \n",
    "                lists.append([mobi.text,review.text,price.text,de])\n",
    "    if k%50==0:\n",
    "        print(' iteration done',format(k))\n",
    "                "
   ]
  },
  {
   "cell_type": "code",
   "execution_count": 3,
   "metadata": {},
   "outputs": [
    {
     "name": "stdout",
     "output_type": "stream",
     "text": [
      "964\n"
     ]
    }
   ],
   "source": [
    "print(len(lists))\n"
   ]
  },
  {
   "cell_type": "code",
   "execution_count": 4,
   "metadata": {},
   "outputs": [
    {
     "name": "stdout",
     "output_type": "stream",
     "text": [
      "(964, 4)\n"
     ]
    },
    {
     "data": {
      "text/html": [
       "<div>\n",
       "<style scoped>\n",
       "    .dataframe tbody tr th:only-of-type {\n",
       "        vertical-align: middle;\n",
       "    }\n",
       "\n",
       "    .dataframe tbody tr th {\n",
       "        vertical-align: top;\n",
       "    }\n",
       "\n",
       "    .dataframe thead th {\n",
       "        text-align: right;\n",
       "    }\n",
       "</style>\n",
       "<table border=\"1\" class=\"dataframe\">\n",
       "  <thead>\n",
       "    <tr style=\"text-align: right;\">\n",
       "      <th></th>\n",
       "      <th>mobile_name</th>\n",
       "      <th>rating</th>\n",
       "      <th>price</th>\n",
       "      <th>det</th>\n",
       "    </tr>\n",
       "  </thead>\n",
       "  <tbody>\n",
       "    <tr>\n",
       "      <th>0</th>\n",
       "      <td>realme C20 (Cool Blue, 32 GB)</td>\n",
       "      <td>4.4</td>\n",
       "      <td>₹7,499</td>\n",
       "      <td>[2 GB RAM | 32 GB ROM | Expandable Upto 256 GB...</td>\n",
       "    </tr>\n",
       "    <tr>\n",
       "      <th>1</th>\n",
       "      <td>realme C20 (Cool Grey, 32 GB)</td>\n",
       "      <td>4.4</td>\n",
       "      <td>₹7,499</td>\n",
       "      <td>[2 GB RAM | 32 GB ROM | Expandable Upto 256 GB...</td>\n",
       "    </tr>\n",
       "    <tr>\n",
       "      <th>2</th>\n",
       "      <td>realme C21 (Cross Blue, 64 GB)</td>\n",
       "      <td>4.4</td>\n",
       "      <td>₹9,799</td>\n",
       "      <td>[4 GB RAM | 64 GB ROM | Expandable Upto 256 GB...</td>\n",
       "    </tr>\n",
       "    <tr>\n",
       "      <th>3</th>\n",
       "      <td>realme C21 (Cross Black, 64 GB)</td>\n",
       "      <td>4.4</td>\n",
       "      <td>₹9,799</td>\n",
       "      <td>[4 GB RAM | 64 GB ROM | Expandable Upto 256 GB...</td>\n",
       "    </tr>\n",
       "    <tr>\n",
       "      <th>4</th>\n",
       "      <td>realme C21 (Cross Blue, 32 GB)</td>\n",
       "      <td>4.4</td>\n",
       "      <td>₹8,799</td>\n",
       "      <td>[3 GB RAM | 32 GB ROM | Expandable Upto 256 GB...</td>\n",
       "    </tr>\n",
       "  </tbody>\n",
       "</table>\n",
       "</div>"
      ],
      "text/plain": [
       "                       mobile_name rating   price  \\\n",
       "0    realme C20 (Cool Blue, 32 GB)    4.4  ₹7,499   \n",
       "1    realme C20 (Cool Grey, 32 GB)    4.4  ₹7,499   \n",
       "2   realme C21 (Cross Blue, 64 GB)    4.4  ₹9,799   \n",
       "3  realme C21 (Cross Black, 64 GB)    4.4  ₹9,799   \n",
       "4   realme C21 (Cross Blue, 32 GB)    4.4  ₹8,799   \n",
       "\n",
       "                                                 det  \n",
       "0  [2 GB RAM | 32 GB ROM | Expandable Upto 256 GB...  \n",
       "1  [2 GB RAM | 32 GB ROM | Expandable Upto 256 GB...  \n",
       "2  [4 GB RAM | 64 GB ROM | Expandable Upto 256 GB...  \n",
       "3  [4 GB RAM | 64 GB ROM | Expandable Upto 256 GB...  \n",
       "4  [3 GB RAM | 32 GB ROM | Expandable Upto 256 GB...  "
      ]
     },
     "execution_count": 4,
     "metadata": {},
     "output_type": "execute_result"
    }
   ],
   "source": [
    "\n",
    "df=pd.DataFrame(data=lists,columns=['mobile_name','rating','price','det'])\n",
    "print(df.shape)\n",
    "df.head()"
   ]
  },
  {
   "cell_type": "code",
   "execution_count": 5,
   "metadata": {},
   "outputs": [
    {
     "data": {
      "text/plain": [
       "['32 MB RAM | 32 MB ROM | Expandable Upto 32 GB',\n",
       " '6.1 cm (2.4 inch) Quarter QVGA Display',\n",
       " '0.3MP Rear Camera',\n",
       " '1800 mAh Battery',\n",
       " '1 Year Brand Warranty']"
      ]
     },
     "execution_count": 5,
     "metadata": {},
     "output_type": "execute_result"
    }
   ],
   "source": [
    "df.det[960]"
   ]
  },
  {
   "cell_type": "code",
   "execution_count": 7,
   "metadata": {},
   "outputs": [],
   "source": [
    "df['display']=None\n",
    "df['memory']=None\n",
    "df['warrenty']=None\n",
    "df['camera']=None\n",
    "df['other_details']=None\n",
    "\n",
    "for i in range(964):\n",
    "    df['camera'][i]=df.det[i][2]\n",
    "    df['display'][i]=df.det[i][1]\n",
    "    df['warrenty'][i]=df.det[i][-1]\n",
    "    df['memory'][i]=df.det[i][0]\n",
    "    df['other_details'][i]=df.det[i][3:-1]\n",
    "    "
   ]
  },
  {
   "cell_type": "code",
   "execution_count": 8,
   "metadata": {},
   "outputs": [
    {
     "data": {
      "text/plain": [
       "mobile_name      0\n",
       "rating           0\n",
       "price            0\n",
       "det              0\n",
       "display          0\n",
       "memory           0\n",
       "warrenty         0\n",
       "camera           0\n",
       "other_details    0\n",
       "dtype: int64"
      ]
     },
     "execution_count": 8,
     "metadata": {},
     "output_type": "execute_result"
    }
   ],
   "source": [
    "df.isnull().sum()"
   ]
  },
  {
   "cell_type": "code",
   "execution_count": 9,
   "metadata": {
    "scrolled": false
   },
   "outputs": [],
   "source": [
    "df.drop(['det'],axis=1,inplace=True)\n",
    "    "
   ]
  },
  {
   "cell_type": "code",
   "execution_count": 10,
   "metadata": {},
   "outputs": [
    {
     "data": {
      "text/html": [
       "<div>\n",
       "<style scoped>\n",
       "    .dataframe tbody tr th:only-of-type {\n",
       "        vertical-align: middle;\n",
       "    }\n",
       "\n",
       "    .dataframe tbody tr th {\n",
       "        vertical-align: top;\n",
       "    }\n",
       "\n",
       "    .dataframe thead th {\n",
       "        text-align: right;\n",
       "    }\n",
       "</style>\n",
       "<table border=\"1\" class=\"dataframe\">\n",
       "  <thead>\n",
       "    <tr style=\"text-align: right;\">\n",
       "      <th></th>\n",
       "      <th>mobile_name</th>\n",
       "      <th>rating</th>\n",
       "      <th>price</th>\n",
       "      <th>display</th>\n",
       "      <th>memory</th>\n",
       "      <th>warrenty</th>\n",
       "      <th>camera</th>\n",
       "      <th>other_details</th>\n",
       "    </tr>\n",
       "  </thead>\n",
       "  <tbody>\n",
       "    <tr>\n",
       "      <th>0</th>\n",
       "      <td>realme C20 (Cool Blue, 32 GB)</td>\n",
       "      <td>4.4</td>\n",
       "      <td>₹7,499</td>\n",
       "      <td>16.51 cm (6.5 inch) HD+ Display</td>\n",
       "      <td>2 GB RAM | 32 GB ROM | Expandable Upto 256 GB</td>\n",
       "      <td>1 Year Warranty for Mobile and 6 Months for Ac...</td>\n",
       "      <td>8MP Rear Camera | 5MP Front Camera</td>\n",
       "      <td>[5000 mAh Battery, MediaTek Helio G35 Processor]</td>\n",
       "    </tr>\n",
       "    <tr>\n",
       "      <th>1</th>\n",
       "      <td>realme C20 (Cool Grey, 32 GB)</td>\n",
       "      <td>4.4</td>\n",
       "      <td>₹7,499</td>\n",
       "      <td>16.51 cm (6.5 inch) HD+ Display</td>\n",
       "      <td>2 GB RAM | 32 GB ROM | Expandable Upto 256 GB</td>\n",
       "      <td>1 Year Warranty for Mobile and 6 Months for Ac...</td>\n",
       "      <td>8MP Rear Camera | 5MP Front Camera</td>\n",
       "      <td>[5000 mAh Battery, MediaTek Helio G35 Processor]</td>\n",
       "    </tr>\n",
       "    <tr>\n",
       "      <th>2</th>\n",
       "      <td>realme C21 (Cross Blue, 64 GB)</td>\n",
       "      <td>4.4</td>\n",
       "      <td>₹9,799</td>\n",
       "      <td>16.51 cm (6.5 inch) HD+ Display</td>\n",
       "      <td>4 GB RAM | 64 GB ROM | Expandable Upto 256 GB</td>\n",
       "      <td>1 Year Warranty for Mobile and 6 Months for Ac...</td>\n",
       "      <td>13MP + 2MP + 2MP | 5MP Front Camera</td>\n",
       "      <td>[5000 mAh Battery, MediaTek Helio G35 Processor]</td>\n",
       "    </tr>\n",
       "    <tr>\n",
       "      <th>3</th>\n",
       "      <td>realme C21 (Cross Black, 64 GB)</td>\n",
       "      <td>4.4</td>\n",
       "      <td>₹9,799</td>\n",
       "      <td>16.51 cm (6.5 inch) HD+ Display</td>\n",
       "      <td>4 GB RAM | 64 GB ROM | Expandable Upto 256 GB</td>\n",
       "      <td>1 Year Warranty for Mobile and 6 Months for Ac...</td>\n",
       "      <td>13MP + 2MP + 2MP | 5MP Front Camera</td>\n",
       "      <td>[5000 mAh Battery, MediaTek Helio G35 Processor]</td>\n",
       "    </tr>\n",
       "    <tr>\n",
       "      <th>4</th>\n",
       "      <td>realme C21 (Cross Blue, 32 GB)</td>\n",
       "      <td>4.4</td>\n",
       "      <td>₹8,799</td>\n",
       "      <td>16.51 cm (6.5 inch) HD+ Display</td>\n",
       "      <td>3 GB RAM | 32 GB ROM | Expandable Upto 256 GB</td>\n",
       "      <td>1 Year Warranty for Mobile and 6 Months for Ac...</td>\n",
       "      <td>13MP + 2MP + 2MP | 5MP Front Camera</td>\n",
       "      <td>[5000 mAh Battery, MediaTek Helio G35 Processor]</td>\n",
       "    </tr>\n",
       "  </tbody>\n",
       "</table>\n",
       "</div>"
      ],
      "text/plain": [
       "                       mobile_name rating   price  \\\n",
       "0    realme C20 (Cool Blue, 32 GB)    4.4  ₹7,499   \n",
       "1    realme C20 (Cool Grey, 32 GB)    4.4  ₹7,499   \n",
       "2   realme C21 (Cross Blue, 64 GB)    4.4  ₹9,799   \n",
       "3  realme C21 (Cross Black, 64 GB)    4.4  ₹9,799   \n",
       "4   realme C21 (Cross Blue, 32 GB)    4.4  ₹8,799   \n",
       "\n",
       "                           display  \\\n",
       "0  16.51 cm (6.5 inch) HD+ Display   \n",
       "1  16.51 cm (6.5 inch) HD+ Display   \n",
       "2  16.51 cm (6.5 inch) HD+ Display   \n",
       "3  16.51 cm (6.5 inch) HD+ Display   \n",
       "4  16.51 cm (6.5 inch) HD+ Display   \n",
       "\n",
       "                                          memory  \\\n",
       "0  2 GB RAM | 32 GB ROM | Expandable Upto 256 GB   \n",
       "1  2 GB RAM | 32 GB ROM | Expandable Upto 256 GB   \n",
       "2  4 GB RAM | 64 GB ROM | Expandable Upto 256 GB   \n",
       "3  4 GB RAM | 64 GB ROM | Expandable Upto 256 GB   \n",
       "4  3 GB RAM | 32 GB ROM | Expandable Upto 256 GB   \n",
       "\n",
       "                                            warrenty  \\\n",
       "0  1 Year Warranty for Mobile and 6 Months for Ac...   \n",
       "1  1 Year Warranty for Mobile and 6 Months for Ac...   \n",
       "2  1 Year Warranty for Mobile and 6 Months for Ac...   \n",
       "3  1 Year Warranty for Mobile and 6 Months for Ac...   \n",
       "4  1 Year Warranty for Mobile and 6 Months for Ac...   \n",
       "\n",
       "                                camera  \\\n",
       "0   8MP Rear Camera | 5MP Front Camera   \n",
       "1   8MP Rear Camera | 5MP Front Camera   \n",
       "2  13MP + 2MP + 2MP | 5MP Front Camera   \n",
       "3  13MP + 2MP + 2MP | 5MP Front Camera   \n",
       "4  13MP + 2MP + 2MP | 5MP Front Camera   \n",
       "\n",
       "                                      other_details  \n",
       "0  [5000 mAh Battery, MediaTek Helio G35 Processor]  \n",
       "1  [5000 mAh Battery, MediaTek Helio G35 Processor]  \n",
       "2  [5000 mAh Battery, MediaTek Helio G35 Processor]  \n",
       "3  [5000 mAh Battery, MediaTek Helio G35 Processor]  \n",
       "4  [5000 mAh Battery, MediaTek Helio G35 Processor]  "
      ]
     },
     "execution_count": 10,
     "metadata": {},
     "output_type": "execute_result"
    }
   ],
   "source": [
    "df.head()"
   ]
  },
  {
   "cell_type": "code",
   "execution_count": 11,
   "metadata": {},
   "outputs": [],
   "source": [
    "df.to_csv('mobile.csv')"
   ]
  },
  {
   "cell_type": "code",
   "execution_count": null,
   "metadata": {},
   "outputs": [],
   "source": []
  }
 ],
 "metadata": {
  "kernelspec": {
   "display_name": "Python 3",
   "language": "python",
   "name": "python3"
  },
  "language_info": {
   "codemirror_mode": {
    "name": "ipython",
    "version": 3
   },
   "file_extension": ".py",
   "mimetype": "text/x-python",
   "name": "python",
   "nbconvert_exporter": "python",
   "pygments_lexer": "ipython3",
   "version": "3.8.5"
  }
 },
 "nbformat": 4,
 "nbformat_minor": 4
}
